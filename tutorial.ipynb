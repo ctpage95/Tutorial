{
  "nbformat": 4,
  "nbformat_minor": 0,
  "metadata": {
    "kernelspec": {
      "display_name": "Python 3",
      "language": "python",
      "name": "python3"
    },
    "language_info": {
      "codemirror_mode": {
        "name": "ipython",
        "version": 3
      },
      "file_extension": ".py",
      "mimetype": "text/x-python",
      "name": "python",
      "nbconvert_exporter": "python",
      "pygments_lexer": "ipython3",
      "version": "3.7.3"
    },
    "colab": {
      "name": "process.ipynb",
      "provenance": [],
      "collapsed_sections": []
    }
  },
  "cells": [
    {
      "cell_type": "markdown",
      "metadata": {
        "id": "U4piXJaHgJdv",
        "colab_type": "text"
      },
      "source": [
        "# Simple Linear Regression"
      ]
    },
    {
      "cell_type": "markdown",
      "metadata": {
        "id": "BHLwFLJtg0P4",
        "colab_type": "text"
      },
      "source": [
        "## Background\n",
        "A simple linear regression is a tool to evaluate the relationship between two variables. We use it to see if changes in one variable (the explanatory variable) correlate with changes in the other variable (the target variable). For instance, you may want to create a model to show the relationship between fathers' heights and their sons' heights. Simple linear regression allows us to find that relationship by comparing the two data sets and plotting the line that most closely represents the data to a graph. In this case, we could use the line to predict a son's height given the father's height."
      ]
    },
    {
      "cell_type": "markdown",
      "metadata": {
        "id": "b1P2vsHrg9Ks",
        "colab_type": "text"
      },
      "source": [
        "## Steps to perform simple linear regression in Python\n",
        "This tutorial will walk you through the steps to perform a simple linear regression in Python. The code to perform the regression is broken up in several small chunks throughout the tutorial, each with a brief description of its purpose. You can run the code directly on this page by pressing the 'Play' icon on the left of each chunk. Make sure to run the code in order."
      ]
    },
    {
      "cell_type": "markdown",
      "metadata": {
        "id": "ayYh2D-5hM0J",
        "colab_type": "text"
      },
      "source": [
        "### Step 1: Set up Python"
      ]
    },
    {
      "cell_type": "markdown",
      "metadata": {
        "id": "AZ_AjYbPEOB3",
        "colab_type": "text"
      },
      "source": [
        "We will use the Python programming language to perform the linear regression. First, we need to install the following built-in packages to assist us.\n",
        "\n",
        "1.   Pandas: Pandas will allow us to import and manipulate data.\n",
        "2.   Seaborn: Seaborn helps us visualize our data. \n",
        "3.   StatsModels: We will use StatsModels to build the regression model.\n",
        "\n",
        "Run the code below by hovering your mouse over the square brackets in the top left corner of the code's cell and clicking on the button that appears, as this image shows:\n",
        "![alt text](https://tweeterphotos.s3-us-west-2.amazonaws.com/Screenshot+(43).png)\n",
        "\n",
        "Clicking this button will create variables that can be accessed by code in any of the other cells. So, after we import these packages, all other cells will be able to use \"pandas\", \"seaborn\", and \"statsmodels.api\".\n"
      ]
    },
    {
      "cell_type": "code",
      "metadata": {
        "id": "3mMdcjs8EOB4",
        "colab_type": "code",
        "colab": {}
      },
      "source": [
        "# Run this code by clicking on it and then the 'Play' icon to the left\n",
        "import pandas as pd \n",
        "import seaborn as sns\n",
        "import statsmodels.api as sm"
      ],
      "execution_count": 0,
      "outputs": []
    },
    {
      "cell_type": "markdown",
      "metadata": {
        "id": "XuH-DVBhn1Rh",
        "colab_type": "text"
      },
      "source": [
        "### Step 2: Set up the data"
      ]
    },
    {
      "cell_type": "markdown",
      "metadata": {
        "id": "wuIgHNlnEOB7",
        "colab_type": "text"
      },
      "source": [
        "We must define the data we will analyze. To keep it simple, we will only extract a small portion of a much larger dataset.\n",
        "\n",
        "Our data comes from a revolutionary observational study: Galton's analysis of peas which compared parent peas to their offspring. He collected the diameters of parents and their offspring and discovered a relationship between them. He used this to make predictions of offspring sizes based on their parents. \n",
        "\n",
        "Run the code below to create the two sets of data. Our variables are **'parent'** and **'offspring'**, and they store the sizes of parent peas and their respective offspring."
      ]
    },
    {
      "cell_type": "code",
      "metadata": {
        "id": "4LHc9bz_EOB8",
        "colab_type": "code",
        "colab": {}
      },
      "source": [
        "# Run this code by clicking on it and then the 'Play' icon to the left\n",
        "parent = [.21, .20, .19, .18, .17, .16, .15, .14]\n",
        "offspring = [.1726, .1707, .1637, .1640, .1613, .1617, .1598, .1594]"
      ],
      "execution_count": 0,
      "outputs": []
    },
    {
      "cell_type": "markdown",
      "metadata": {
        "id": "8dHZpIdEpMKi",
        "colab_type": "text"
      },
      "source": [
        "### Step 3: Combine the data"
      ]
    },
    {
      "cell_type": "markdown",
      "metadata": {
        "id": "bqYJCxpWEOB_",
        "colab_type": "text"
      },
      "source": [
        "We need to join the lists into a single table so they can be analyzed together. We call this table a dataframe.\n",
        "\n",
        "First, run the code below to **zip** the two lists into a single variable called **zipped_data**.\n",
        "\n"
      ]
    },
    {
      "cell_type": "code",
      "metadata": {
        "id": "df5E4GzbiPOv",
        "colab_type": "code",
        "colab": {}
      },
      "source": [
        "# Run this code by clicking on it and then the 'Play' icon to the left\n",
        "zipped_data = zip(parent, offspring)"
      ],
      "execution_count": 0,
      "outputs": []
    },
    {
      "cell_type": "markdown",
      "metadata": {
        "id": "W250Uu68iQG4",
        "colab_type": "text"
      },
      "source": [
        "Then, we use the pandas package (**pd** for short) to create the **dataframe** and store it in a variable called **peas**. Run this code below."
      ]
    },
    {
      "cell_type": "code",
      "metadata": {
        "id": "tEhvpUdEEOCA",
        "colab_type": "code",
        "colab": {}
      },
      "source": [
        "# Run this code by clicking on it and then the 'Play' icon to the left\n",
        "peas = pd.DataFrame(zipped_data)"
      ],
      "execution_count": 0,
      "outputs": []
    },
    {
      "cell_type": "markdown",
      "metadata": {
        "id": "pwymVATHib2K",
        "colab_type": "text"
      },
      "source": [
        "Run this code to name the columns of the dataframe table as **'parent'** and **'offspring'**."
      ]
    },
    {
      "cell_type": "code",
      "metadata": {
        "id": "E8jr9wA7icNJ",
        "colab_type": "code",
        "colab": {}
      },
      "source": [
        "# Run this code by clicking on it and then the 'Play' icon to the left\n",
        "peas.columns = ['parent', 'offspring']"
      ],
      "execution_count": 0,
      "outputs": []
    },
    {
      "cell_type": "markdown",
      "metadata": {
        "id": "uvRpsvfRqPX5",
        "colab_type": "text"
      },
      "source": [
        "### Step 4: Create the model"
      ]
    },
    {
      "cell_type": "markdown",
      "metadata": {
        "id": "sYf-8kKYEOCF",
        "colab_type": "text"
      },
      "source": [
        "Remember, we are trying to create a model that closely resembles the actual data. Our model will be the straight line with the smallest vertical distance between itself and all the data points. It is the line that best fits the data. To find it, we use the least squares method.\n",
        "\n",
        "<center><img src=\"https://www.ehdp.com/vn/ro/images/800px-Residuals_for_Linear_Regression_Fit.png\" width=\"400\"></center>\n",
        "<center><b>Image source: (n.d.). Retrieved from https://www.ehdp.com/methods/least-squares-regression-1.htm.</b></center>\n",
        "\n",
        "\n",
        "This is an example of a regression line computed with the least squares method. The line that runs through the data points is the optimal line that minimizes the overall distance of the data points from the line.\n",
        "\n",
        "\n",
        "\n"
      ]
    },
    {
      "cell_type": "markdown",
      "metadata": {
        "id": "wtLA2X1N25qc",
        "colab_type": "text"
      },
      "source": [
        "This is the most important step in the process. Instead of calculating the least squares by hand, we will use the 'statsmodels' package (**sm**) \n",
        "and call its 'Ordinary Least Squares' method (**OLS**) to do it for us.\n",
        "\n",
        "**Understanding the syntax:** We will use the dataframe **peas** that we built. We then use the brackets \"[ ]\" to access the columns within that particular dataframe, using quotation marks.\n",
        "\n",
        "**NOTE:** Since we were given the two separate lists with the data, doing this step isn't exactly necessary; we could just plug in the list variables directly. However, we generally are not given data in lists, but in dataframes with columns so it is better practice to use this syntax.\n",
        "\n",
        "Run the code below to compute the least squares of the two dataframe columns."
      ]
    },
    {
      "cell_type": "code",
      "metadata": {
        "id": "TGrXxkP7EOCG",
        "colab_type": "code",
        "colab": {}
      },
      "source": [
        "# Run this code by clicking on it and then the 'Play' icon to the left\n",
        "ols = sm.OLS(peas['offspring'], peas['parent'])"
      ],
      "execution_count": 0,
      "outputs": []
    },
    {
      "cell_type": "markdown",
      "metadata": {
        "id": "b8MsZ30kkZB6",
        "colab_type": "text"
      },
      "source": [
        "Now, we can run the code below **fit** the least squares data, **ols**, to a regression line and store it in a variable called **model**."
      ]
    },
    {
      "cell_type": "code",
      "metadata": {
        "id": "5jVkVDYSkZXr",
        "colab_type": "code",
        "colab": {}
      },
      "source": [
        "# Run this code by clicking on it and then the 'Play' icon to the left\n",
        "model = ols.fit()"
      ],
      "execution_count": 0,
      "outputs": []
    },
    {
      "cell_type": "markdown",
      "metadata": {
        "id": "ExuoNQsh3QQd",
        "colab_type": "text"
      },
      "source": [
        "### Step 5: Determine the statistical significance"
      ]
    },
    {
      "cell_type": "markdown",
      "metadata": {
        "id": "OQGr8hqyywhz",
        "colab_type": "text"
      },
      "source": [
        "Now that we have our **model**, we can look at its **summary** to see if the results are significant. \n",
        "\n",
        "Run the code below. Don't worry if it gives you any warnings. The most important part of the results is the p-value, which represents a probability. Specifically, it is the probability that the results we obtained occured by chance. In general, we use a significance level of 0.05. If the **p-value** is less than that, we can conclude that the results are statistically significant, and that the results **did not** occur by chance.\n",
        "\n"
      ]
    },
    {
      "cell_type": "code",
      "metadata": {
        "id": "n31kFyxWEOCI",
        "colab_type": "code",
        "outputId": "31571420-1157-445a-c0e9-eadccfcc6225",
        "colab": {
          "base_uri": "https://localhost:8080/",
          "height": 439
        }
      },
      "source": [
        "# Run this code by clicking on it and then the 'Play' icon to the left\n",
        "model.summary()"
      ],
      "execution_count": 0,
      "outputs": [
        {
          "output_type": "stream",
          "text": [
            "/usr/local/lib/python3.6/dist-packages/scipy/stats/stats.py:1450: UserWarning: kurtosistest only valid for n>=20 ... continuing anyway, n=8\n",
            "  \"anyway, n=%i\" % int(n))\n"
          ],
          "name": "stderr"
        },
        {
          "output_type": "execute_result",
          "data": {
            "text/html": [
              "<table class=\"simpletable\">\n",
              "<caption>OLS Regression Results</caption>\n",
              "<tr>\n",
              "  <th>Dep. Variable:</th>        <td>offspring</td>    <th>  R-squared (uncentered):</th>      <td>   0.989</td>\n",
              "</tr>\n",
              "<tr>\n",
              "  <th>Model:</th>                   <td>OLS</td>       <th>  Adj. R-squared (uncentered):</th> <td>   0.987</td>\n",
              "</tr>\n",
              "<tr>\n",
              "  <th>Method:</th>             <td>Least Squares</td>  <th>  F-statistic:       </th>          <td>   631.3</td>\n",
              "</tr>\n",
              "<tr>\n",
              "  <th>Date:</th>             <td>Thu, 21 Nov 2019</td> <th>  Prob (F-statistic):</th>          <td>4.04e-08</td>\n",
              "</tr>\n",
              "<tr>\n",
              "  <th>Time:</th>                 <td>02:04:01</td>     <th>  Log-Likelihood:    </th>          <td>  21.153</td>\n",
              "</tr>\n",
              "<tr>\n",
              "  <th>No. Observations:</th>      <td>     8</td>      <th>  AIC:               </th>          <td>  -40.31</td>\n",
              "</tr>\n",
              "<tr>\n",
              "  <th>Df Residuals:</th>          <td>     7</td>      <th>  BIC:               </th>          <td>  -40.23</td>\n",
              "</tr>\n",
              "<tr>\n",
              "  <th>Df Model:</th>              <td>     1</td>      <th>                     </th>              <td> </td>   \n",
              "</tr>\n",
              "<tr>\n",
              "  <th>Covariance Type:</th>      <td>nonrobust</td>    <th>                     </th>              <td> </td>   \n",
              "</tr>\n",
              "</table>\n",
              "<table class=\"simpletable\">\n",
              "<tr>\n",
              "     <td></td>       <th>coef</th>     <th>std err</th>      <th>t</th>      <th>P>|t|</th>  <th>[0.025</th>    <th>0.975]</th>  \n",
              "</tr>\n",
              "<tr>\n",
              "  <th>parent</th> <td>    0.9253</td> <td>    0.037</td> <td>   25.126</td> <td> 0.000</td> <td>    0.838</td> <td>    1.012</td>\n",
              "</tr>\n",
              "</table>\n",
              "<table class=\"simpletable\">\n",
              "<tr>\n",
              "  <th>Omnibus:</th>       <td> 0.900</td> <th>  Durbin-Watson:     </th> <td>   0.177</td>\n",
              "</tr>\n",
              "<tr>\n",
              "  <th>Prob(Omnibus):</th> <td> 0.638</td> <th>  Jarque-Bera (JB):  </th> <td>   0.589</td>\n",
              "</tr>\n",
              "<tr>\n",
              "  <th>Skew:</th>          <td> 0.199</td> <th>  Prob(JB):          </th> <td>   0.745</td>\n",
              "</tr>\n",
              "<tr>\n",
              "  <th>Kurtosis:</th>      <td> 1.732</td> <th>  Cond. No.          </th> <td>    1.00</td>\n",
              "</tr>\n",
              "</table><br/><br/>Warnings:<br/>[1] Standard Errors assume that the covariance matrix of the errors is correctly specified."
            ],
            "text/plain": [
              "<class 'statsmodels.iolib.summary.Summary'>\n",
              "\"\"\"\n",
              "                                 OLS Regression Results                                \n",
              "=======================================================================================\n",
              "Dep. Variable:              offspring   R-squared (uncentered):                   0.989\n",
              "Model:                            OLS   Adj. R-squared (uncentered):              0.987\n",
              "Method:                 Least Squares   F-statistic:                              631.3\n",
              "Date:                Thu, 21 Nov 2019   Prob (F-statistic):                    4.04e-08\n",
              "Time:                        02:04:01   Log-Likelihood:                          21.153\n",
              "No. Observations:                   8   AIC:                                     -40.31\n",
              "Df Residuals:                       7   BIC:                                     -40.23\n",
              "Df Model:                           1                                                  \n",
              "Covariance Type:            nonrobust                                                  \n",
              "==============================================================================\n",
              "                 coef    std err          t      P>|t|      [0.025      0.975]\n",
              "------------------------------------------------------------------------------\n",
              "parent         0.9253      0.037     25.126      0.000       0.838       1.012\n",
              "==============================================================================\n",
              "Omnibus:                        0.900   Durbin-Watson:                   0.177\n",
              "Prob(Omnibus):                  0.638   Jarque-Bera (JB):                0.589\n",
              "Skew:                           0.199   Prob(JB):                        0.745\n",
              "Kurtosis:                       1.732   Cond. No.                         1.00\n",
              "==============================================================================\n",
              "\n",
              "Warnings:\n",
              "[1] Standard Errors assume that the covariance matrix of the errors is correctly specified.\n",
              "\"\"\""
            ]
          },
          "metadata": {
            "tags": []
          },
          "execution_count": 15
        }
      ]
    },
    {
      "cell_type": "markdown",
      "metadata": {
        "id": "YTu8pUbHlYH7",
        "colab_type": "text"
      },
      "source": [
        "In this example, we observe a p-value that is 0.000. Since this value is less than 0.05, we can conclude that the results are not by chance; there is a relationship between the parent and the offspring diameter sizes."
      ]
    },
    {
      "cell_type": "markdown",
      "metadata": {
        "id": "Dkxq3TyKnL38",
        "colab_type": "text"
      },
      "source": [
        "### Step 6: Identify the type of relationship"
      ]
    },
    {
      "cell_type": "markdown",
      "metadata": {
        "id": "8qXm89eXwGQT",
        "colab_type": "text"
      },
      "source": [
        "Now, let's visualize our data on a graph.\n",
        "\n",
        "Run the code below which uses the Seaborn package (**sns** for short) to plot (**regplot**) the data on a graph. We give it our dataframe (**peas**) as the data, and set the explanatory variable (**'parent'**) as the **x**-axis and the target variable (**'offspring'**) as the **y**-axis."
      ]
    },
    {
      "cell_type": "code",
      "metadata": {
        "id": "kSobQieoEOCN",
        "colab_type": "code",
        "outputId": "9330610f-fac5-4a0c-9a88-0fe31adfb89b",
        "colab": {
          "base_uri": "https://localhost:8080/",
          "height": 296
        }
      },
      "source": [
        "# Run this code by clicking on it and then the 'Play' icon to the left\n",
        "sns.regplot(data=peas, x = 'parent', y = 'offspring')"
      ],
      "execution_count": 0,
      "outputs": [
        {
          "output_type": "execute_result",
          "data": {
            "text/plain": [
              "<matplotlib.axes._subplots.AxesSubplot at 0x7f5506107828>"
            ]
          },
          "metadata": {
            "tags": []
          },
          "execution_count": 16
        },
        {
          "output_type": "display_data",
          "data": {
            "image/png": "[encoded data removed]",
            "text/plain": [
              "<Figure size 432x288 with 1 Axes>"
            ]
          },
          "metadata": {
            "tags": []
          }
        }
      ]
    },
    {
      "cell_type": "markdown",
      "metadata": {
        "id": "ZCrrejg4l2CX",
        "colab_type": "text"
      },
      "source": [
        "The dots represent the data points. The line going through them is the regression line, or the \"least squares\" line. The shaded area represents a 95% confidence interval. This means that we are 95% confident that the values will be within this area."
      ]
    },
    {
      "cell_type": "markdown",
      "metadata": {
        "id": "mMiJLx2tvFju",
        "colab_type": "text"
      },
      "source": [
        "What type of relationship exists between the data? It is positive, negative, or neither?\n",
        "\n",
        "  - **Positive:** as one variable increases, the other variables increases as well.\n",
        "  - **Negative:** as one variable increases, the other variable decreases.\n",
        "  - **Neither:** There is no relationship between the variables."
      ]
    },
    {
      "cell_type": "markdown",
      "metadata": {
        "id": "mstZ3x6angd3",
        "colab_type": "text"
      },
      "source": [
        "### Step 7: Make predictions"
      ]
    },
    {
      "cell_type": "markdown",
      "metadata": {
        "id": "qRZZGRmrveZh",
        "colab_type": "text"
      },
      "source": [
        "We can now use the **model** to **predict** values for the target variable given the explanatory variable.\n",
        "\n",
        "Run the code below to predict the size of an of an offspring pea who's parent has a size of **.24**."
      ]
    },
    {
      "cell_type": "code",
      "metadata": {
        "id": "Pot6NPaiEOCW",
        "colab_type": "code",
        "outputId": "75ffbc99-c2c4-4b34-d0eb-438ce04199da",
        "colab": {
          "base_uri": "https://localhost:8080/",
          "height": 34
        }
      },
      "source": [
        "# Run this code by clicking on it and then the 'Play' icon to the left\n",
        "model.predict(.24)"
      ],
      "execution_count": 0,
      "outputs": [
        {
          "output_type": "execute_result",
          "data": {
            "text/plain": [
              "array([0.22207512])"
            ]
          },
          "metadata": {
            "tags": []
          },
          "execution_count": 17
        }
      ]
    },
    {
      "cell_type": "markdown",
      "metadata": {
        "id": "1DNdvin97WsT",
        "colab_type": "text"
      },
      "source": [
        "# Now it's your turn\n",
        "Given a new data set, write the code to perform another simple linear regression. You may have to reference the first example to get it right. If you already ran through the first example, you will not need to import the Python packages again. Remember to run the code in order, or it will not work.\n",
        "\n",
        "We will get you started by defining the lists of data: **temps** and **chirps**. This data comes from an experiment measuring how the outside temperature can affect the number of cricket chirps. The values in the two lists represent how many average chirps per minute were heard when it was a respective temperature outside. This time, temps is the explanatory variable, and chirps is the target variable.\n",
        "\n",
        "Run the code below to define your data sets."
      ]
    },
    {
      "cell_type": "code",
      "metadata": {
        "id": "sGK9PfX6EOCc",
        "colab_type": "code",
        "colab": {}
      },
      "source": [
        "# Run this code by clicking on it and then the 'Play' icon to the left\n",
        "temps = [88.6, 71.6, 93.3, 84.3, 80.6,75.2, 69.7, 82, 69.4, 83.3, 79.6, 82.6, 80.6, 83.5, 76.3]\n",
        "chirps = [20, 16, 19.8, 18.4, 17.1, 15.5, 14.7, 17.1, 15.4, 16.2, 15, 17.2, 16, 17, 14.4]"
      ],
      "execution_count": 0,
      "outputs": []
    },
    {
      "cell_type": "markdown",
      "metadata": {
        "id": "MT7hvXnIqEmQ",
        "colab_type": "text"
      },
      "source": [
        "Write the code to zip your data into one variable."
      ]
    },
    {
      "cell_type": "code",
      "metadata": {
        "id": "VP-1G8a6qAss",
        "colab_type": "code",
        "colab": {}
      },
      "source": [
        ""
      ],
      "execution_count": 0,
      "outputs": []
    },
    {
      "cell_type": "markdown",
      "metadata": {
        "id": "Kv7q5Dxq8GpQ",
        "colab_type": "text"
      },
      "source": [
        "Now, write the code to create a dataframe. You can name the dataframe whatever you want, but make sure it make sense. In our above example, we named it 'peas' becaue the table contained pea sizes."
      ]
    },
    {
      "cell_type": "code",
      "metadata": {
        "id": "kv6iz8FK8PE2",
        "colab_type": "code",
        "colab": {}
      },
      "source": [
        ""
      ],
      "execution_count": 0,
      "outputs": []
    },
    {
      "cell_type": "markdown",
      "metadata": {
        "id": "QK3V4LBFqU8u",
        "colab_type": "text"
      },
      "source": [
        "Set the column names of your dataframe so they match your data."
      ]
    },
    {
      "cell_type": "code",
      "metadata": {
        "id": "BFHBOCFuqaBE",
        "colab_type": "code",
        "colab": {}
      },
      "source": [
        ""
      ],
      "execution_count": 0,
      "outputs": []
    },
    {
      "cell_type": "markdown",
      "metadata": {
        "id": "c6cvPENcqgFV",
        "colab_type": "text"
      },
      "source": [
        "Compute the least squares of your new dataframe."
      ]
    },
    {
      "cell_type": "code",
      "metadata": {
        "id": "JIgZNnk2qj0S",
        "colab_type": "code",
        "colab": {}
      },
      "source": [
        ""
      ],
      "execution_count": 0,
      "outputs": []
    },
    {
      "cell_type": "markdown",
      "metadata": {
        "id": "BuECfx7KqlP3",
        "colab_type": "text"
      },
      "source": [
        "Now fit the data to a model."
      ]
    },
    {
      "cell_type": "code",
      "metadata": {
        "id": "LR0ozw8Q86GK",
        "colab_type": "code",
        "colab": {}
      },
      "source": [
        ""
      ],
      "execution_count": 0,
      "outputs": []
    },
    {
      "cell_type": "markdown",
      "metadata": {
        "id": "ne7ZM50t9LPP",
        "colab_type": "text"
      },
      "source": [
        "Display the summary of the model. Remember, it's OK if you get some warnings. Locate the P-value to determine the significance of the results."
      ]
    },
    {
      "cell_type": "code",
      "metadata": {
        "id": "VHHKVEoF9Mbw",
        "colab_type": "code",
        "colab": {}
      },
      "source": [
        ""
      ],
      "execution_count": 0,
      "outputs": []
    },
    {
      "cell_type": "markdown",
      "metadata": {
        "id": "RRcWOdnT9NDx",
        "colab_type": "text"
      },
      "source": [
        "Visually plot the data to a graph. What kind of relationship exists between the data?"
      ]
    },
    {
      "cell_type": "code",
      "metadata": {
        "id": "beMlseC09UHH",
        "colab_type": "code",
        "colab": {}
      },
      "source": [
        ""
      ],
      "execution_count": 0,
      "outputs": []
    },
    {
      "cell_type": "markdown",
      "metadata": {
        "id": "-pcylZfK9X8F",
        "colab_type": "text"
      },
      "source": [
        "Finally, use the model to run a few predictions to determine the number of chirps based on different temperatures. Do the predictions make sense?"
      ]
    },
    {
      "cell_type": "code",
      "metadata": {
        "id": "aaC98Vio9hcj",
        "colab_type": "code",
        "colab": {}
      },
      "source": [
        ""
      ],
      "execution_count": 0,
      "outputs": []
    },
    {
      "cell_type": "markdown",
      "metadata": {
        "id": "YbNvI1JB317A",
        "colab_type": "text"
      },
      "source": [
        "Sources:\n",
        "\n",
        "***Peas experiment:***\n",
        "\n",
        "Weisberg, S. (2019, May 2). galtonpeas: Galton's peas in alr3: Data to Accompany Applied Linear Regression 3rd Edition. Retrieved from https://rdrr.io/cran/alr3/man/galtonpeas.html.\n",
        "\n",
        "***Chirps Data:***\n",
        "\n",
        "\n",
        "Microsoft Azure Notebooks. (n.d.). Retrieved from https://Azure\n",
        "  notebooks.azure.com/Microsoft/projects/samples/html/Linear Azure\n",
        "  Regression - Cricket Chirps/Example Linear Regression - Cricket\n",
        "  Chirps.ipynb.\n",
        "\n",
        "***Perform Python regression:***\n",
        "\n",
        "Bronshtein, A. (2018, August 2). Simple and Multiple Linear Regression in Python. Retrieved from https://towardsdatascience.com/simple-and-multiple-linear-regression-in-python-c928425168f9.\n"
      ]
    }
  ]
}