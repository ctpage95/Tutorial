{
 "cells": [
  {
   "cell_type": "markdown",
   "metadata": {},
   "source": [
    "# statsmodels.api vs. sklearn"
   ]
  },
  {
   "cell_type": "markdown",
   "metadata": {
    "colab_type": "text",
    "id": "U4piXJaHgJdv"
   },
   "source": [
    "## Linear Regression - statsmodels.api"
   ]
  },
  {
   "cell_type": "markdown",
   "metadata": {
    "colab_type": "text",
    "id": "BHLwFLJtg0P4"
   },
   "source": [
    "## Background\n",
    "A simple linear regression is a tool to evaluate the relationship between two variables. We use it to see if changes in one variable (the explanatory variable) correlate with changes in the other variable (the target variable). For instance, you may want to create a model to show the relationship between fathers' heights and their sons' heights. Simple linear regression allows us to find that relationship by comparing the two data sets and plotting the line that most closely represents the data to a graph. In this case, we could use the line to predict a son's height given the father's height."
   ]
  },
  {
   "cell_type": "markdown",
   "metadata": {
    "colab_type": "text",
    "id": "b1P2vsHrg9Ks"
   },
   "source": [
    "## Steps to perform simple linear regression in Python\n",
    "This tutorial will walk you through the steps to perform a simple linear regression in Python. The code to perform the regression is broken up in several small chunks throughout the tutorial, each with a brief description of its purpose. You can run the code directly on this page by pressing the 'Play' icon on the left of each chunk. Make sure to run the code in order."
   ]
  },
  {
   "cell_type": "markdown",
   "metadata": {
    "colab_type": "text",
    "id": "ayYh2D-5hM0J"
   },
   "source": [
    "### Step 1: Set up Python"
   ]
  },
  {
   "cell_type": "markdown",
   "metadata": {
    "colab_type": "text",
    "id": "AZ_AjYbPEOB3"
   },
   "source": [
    "We will use the Python programming language to perform the linear regression. First, we need to install the following built-in packages to assist us.\n",
    "\n",
    "1.   Pandas: Pandas will allow us to import and manipulate data.\n",
    "2.   Seaborn: Seaborn helps us visualize our data. \n",
    "3.   StatsModels: We will use StatsModels first to build the regression model."
   ]
  },
  {
   "cell_type": "code",
   "execution_count": 101,
   "metadata": {
    "colab": {},
    "colab_type": "code",
    "id": "3mMdcjs8EOB4"
   },
   "outputs": [],
   "source": [
    "# Run this code by clicking on it and then the 'Play' icon to the left\n",
    "import pandas as pd \n",
    "import numpy as np\n",
    "import seaborn as sns\n",
    "import statsmodels.api as sm"
   ]
  },
  {
   "cell_type": "markdown",
   "metadata": {
    "colab_type": "text",
    "id": "XuH-DVBhn1Rh"
   },
   "source": [
    "### Step 2: Set up the data"
   ]
  },
  {
   "cell_type": "markdown",
   "metadata": {
    "colab_type": "text",
    "id": "wuIgHNlnEOB7"
   },
   "source": [
    "We must define the data we will analyze. To keep it simple, we will only extract a small portion of a much larger dataset.\n",
    "\n",
    "Our data comes from a revolutionary observational study: Galton's analysis of peas which compared parent peas to their offspring. He collected the diameters of parents and their offspring and discovered a relationship between them. He used this to make predictions of offspring sizes based on their parents. \n",
    "\n",
    "Run the code below to create the two sets of data. Our variables are **'parent'** and **'offspring'**, and they store the sizes of parent peas and their respective offspring."
   ]
  },
  {
   "cell_type": "code",
   "execution_count": 69,
   "metadata": {
    "colab": {},
    "colab_type": "code",
    "id": "4LHc9bz_EOB8"
   },
   "outputs": [],
   "source": [
    "# Run this code by clicking on it and then the 'Play' icon to the left\n",
    "parent = [.21, .20, .19, .18, .17, .16, .15, .14]\n",
    "offspring = [.1726, .1707, .1637, .1640, .1613, .1617, .1598, .1594]"
   ]
  },
  {
   "cell_type": "markdown",
   "metadata": {
    "colab_type": "text",
    "id": "8dHZpIdEpMKi"
   },
   "source": [
    "### Step 3: Combine the data"
   ]
  },
  {
   "cell_type": "markdown",
   "metadata": {
    "colab_type": "text",
    "id": "bqYJCxpWEOB_"
   },
   "source": [
    "We need to join the lists into a single table so they can be analyzed together. We call this table a dataframe.\n",
    "\n",
    "First, run the code below to **zip** the two lists into a single variable called **zipped_data**.\n",
    "\n"
   ]
  },
  {
   "cell_type": "code",
   "execution_count": 70,
   "metadata": {
    "colab": {},
    "colab_type": "code",
    "id": "df5E4GzbiPOv"
   },
   "outputs": [],
   "source": [
    "# Run this code by clicking on it and then the 'Play' icon to the left\n",
    "zipped_data = zip(parent, offspring)"
   ]
  },
  {
   "cell_type": "markdown",
   "metadata": {
    "colab_type": "text",
    "id": "W250Uu68iQG4"
   },
   "source": [
    "Then, we use the pandas package (**pd** for short) to create the **dataframe** and store it in a variable called **peas**. Run this code below."
   ]
  },
  {
   "cell_type": "code",
   "execution_count": 71,
   "metadata": {
    "colab": {},
    "colab_type": "code",
    "id": "tEhvpUdEEOCA"
   },
   "outputs": [],
   "source": [
    "# Run this code by clicking on it and then the 'Play' icon to the left\n",
    "peas = pd.DataFrame(zipped_data)"
   ]
  },
  {
   "cell_type": "markdown",
   "metadata": {
    "colab_type": "text",
    "id": "pwymVATHib2K"
   },
   "source": [
    "Run this code to name the columns of the dataframe table as **'parent'** and **'offspring'**."
   ]
  },
  {
   "cell_type": "code",
   "execution_count": 72,
   "metadata": {
    "colab": {},
    "colab_type": "code",
    "id": "E8jr9wA7icNJ"
   },
   "outputs": [],
   "source": [
    "# Run this code by clicking on it and then the 'Play' icon to the left\n",
    "peas.columns = ['parent', 'offspring']"
   ]
  },
  {
   "cell_type": "markdown",
   "metadata": {
    "colab_type": "text",
    "id": "uvRpsvfRqPX5"
   },
   "source": [
    "### Step 4: Create the model"
   ]
  },
  {
   "cell_type": "markdown",
   "metadata": {
    "colab_type": "text",
    "id": "sYf-8kKYEOCF"
   },
   "source": [
    "Remember, we are trying to create a model that closely resembles the actual data. Our model will be the straight line with the smallest vertical distance between itself and all the data points. It is the line that best fits the data. To find it, we use the least squares method.\n",
    "\n",
    "<center><img src=\"https://www.ehdp.com/vn/ro/images/800px-Residuals_for_Linear_Regression_Fit.png\" width=\"400\"></center>\n",
    "<center><b>Image source: (n.d.). Retrieved from https://www.ehdp.com/methods/least-squares-regression-1.htm.</b></center>\n",
    "\n",
    "\n",
    "This is an example of a regression line computed with the least squares method. The line that runs through the data points is the optimal line that minimizes the overall distance of the data points from the line.\n",
    "\n",
    "\n",
    "\n"
   ]
  },
  {
   "cell_type": "markdown",
   "metadata": {
    "colab_type": "text",
    "id": "wtLA2X1N25qc"
   },
   "source": [
    "This is the most important step in the process. Instead of calculating the least squares by hand, we will use the 'statsmodels' package (**sm**) \n",
    "and call its 'Ordinary Least Squares' method (**OLS**) to do it for us.\n",
    "\n",
    "**Understanding the syntax:** We will use the dataframe **peas** that we built. We then use the brackets \"[ ]\" to access the columns within that particular dataframe, using quotation marks.\n",
    "\n",
    "**NOTE:** Since we were given the two separate lists with the data, doing this step isn't exactly necessary; we could just plug in the list variables directly. However, we generally are not given data in lists, but in dataframes with columns so it is better practice to use this syntax.\n",
    "\n",
    "Run the code below to compute the least squares of the two dataframe columns."
   ]
  },
  {
   "cell_type": "code",
   "execution_count": 73,
   "metadata": {
    "colab": {},
    "colab_type": "code",
    "id": "TGrXxkP7EOCG"
   },
   "outputs": [],
   "source": [
    "# Run this code by clicking on it and then the 'Play' icon to the left\n",
    "ols = sm.OLS(peas['offspring'], peas['parent'])"
   ]
  },
  {
   "cell_type": "markdown",
   "metadata": {
    "colab_type": "text",
    "id": "b8MsZ30kkZB6"
   },
   "source": [
    "Now, we can run the code below **fit** the least squares data, **ols**, to a regression line and store it in a variable called **model**."
   ]
  },
  {
   "cell_type": "code",
   "execution_count": 74,
   "metadata": {
    "colab": {},
    "colab_type": "code",
    "id": "5jVkVDYSkZXr"
   },
   "outputs": [],
   "source": [
    "# Run this code by clicking on it and then the 'Play' icon to the left\n",
    "model = ols.fit()"
   ]
  },
  {
   "cell_type": "markdown",
   "metadata": {
    "colab_type": "text",
    "id": "ExuoNQsh3QQd"
   },
   "source": [
    "### Step 5: Determine the statistical significance"
   ]
  },
  {
   "cell_type": "markdown",
   "metadata": {
    "colab_type": "text",
    "id": "OQGr8hqyywhz"
   },
   "source": [
    "Now that we have our **model**, we can look at its **summary** to see if the results are significant. \n",
    "\n",
    "Run the code below. Don't worry if it gives you any warnings. The most important part of the results is the p-value, which represents a probability. Specifically, it is the probability that the results we obtained occured by chance. In general, we use a significance level of 0.05. If the **p-value** is less than that, we can conclude that the results are statistically significant, and that the results **did not** occur by chance.\n",
    "\n"
   ]
  },
  {
   "cell_type": "code",
   "execution_count": 75,
   "metadata": {
    "colab": {
     "base_uri": "https://localhost:8080/",
     "height": 439
    },
    "colab_type": "code",
    "id": "n31kFyxWEOCI",
    "outputId": "31571420-1157-445a-c0e9-eadccfcc6225"
   },
   "outputs": [
    {
     "name": "stderr",
     "output_type": "stream",
     "text": [
      "/Users/cameronpage/opt/anaconda3/lib/python3.7/site-packages/scipy/stats/stats.py:1450: UserWarning: kurtosistest only valid for n>=20 ... continuing anyway, n=8\n",
      "  \"anyway, n=%i\" % int(n))\n"
     ]
    },
    {
     "data": {
      "text/html": [
       "<table class=\"simpletable\">\n",
       "<caption>OLS Regression Results</caption>\n",
       "<tr>\n",
       "  <th>Dep. Variable:</th>        <td>offspring</td>    <th>  R-squared (uncentered):</th>      <td>   0.989</td>\n",
       "</tr>\n",
       "<tr>\n",
       "  <th>Model:</th>                   <td>OLS</td>       <th>  Adj. R-squared (uncentered):</th> <td>   0.987</td>\n",
       "</tr>\n",
       "<tr>\n",
       "  <th>Method:</th>             <td>Least Squares</td>  <th>  F-statistic:       </th>          <td>   631.3</td>\n",
       "</tr>\n",
       "<tr>\n",
       "  <th>Date:</th>             <td>Mon, 16 Dec 2019</td> <th>  Prob (F-statistic):</th>          <td>4.04e-08</td>\n",
       "</tr>\n",
       "<tr>\n",
       "  <th>Time:</th>                 <td>01:22:54</td>     <th>  Log-Likelihood:    </th>          <td>  21.153</td>\n",
       "</tr>\n",
       "<tr>\n",
       "  <th>No. Observations:</th>      <td>     8</td>      <th>  AIC:               </th>          <td>  -40.31</td>\n",
       "</tr>\n",
       "<tr>\n",
       "  <th>Df Residuals:</th>          <td>     7</td>      <th>  BIC:               </th>          <td>  -40.23</td>\n",
       "</tr>\n",
       "<tr>\n",
       "  <th>Df Model:</th>              <td>     1</td>      <th>                     </th>              <td> </td>   \n",
       "</tr>\n",
       "<tr>\n",
       "  <th>Covariance Type:</th>      <td>nonrobust</td>    <th>                     </th>              <td> </td>   \n",
       "</tr>\n",
       "</table>\n",
       "<table class=\"simpletable\">\n",
       "<tr>\n",
       "     <td></td>       <th>coef</th>     <th>std err</th>      <th>t</th>      <th>P>|t|</th>  <th>[0.025</th>    <th>0.975]</th>  \n",
       "</tr>\n",
       "<tr>\n",
       "  <th>parent</th> <td>    0.9253</td> <td>    0.037</td> <td>   25.126</td> <td> 0.000</td> <td>    0.838</td> <td>    1.012</td>\n",
       "</tr>\n",
       "</table>\n",
       "<table class=\"simpletable\">\n",
       "<tr>\n",
       "  <th>Omnibus:</th>       <td> 0.900</td> <th>  Durbin-Watson:     </th> <td>   0.177</td>\n",
       "</tr>\n",
       "<tr>\n",
       "  <th>Prob(Omnibus):</th> <td> 0.638</td> <th>  Jarque-Bera (JB):  </th> <td>   0.589</td>\n",
       "</tr>\n",
       "<tr>\n",
       "  <th>Skew:</th>          <td> 0.199</td> <th>  Prob(JB):          </th> <td>   0.745</td>\n",
       "</tr>\n",
       "<tr>\n",
       "  <th>Kurtosis:</th>      <td> 1.732</td> <th>  Cond. No.          </th> <td>    1.00</td>\n",
       "</tr>\n",
       "</table><br/><br/>Warnings:<br/>[1] Standard Errors assume that the covariance matrix of the errors is correctly specified."
      ],
      "text/plain": [
       "<class 'statsmodels.iolib.summary.Summary'>\n",
       "\"\"\"\n",
       "                                 OLS Regression Results                                \n",
       "=======================================================================================\n",
       "Dep. Variable:              offspring   R-squared (uncentered):                   0.989\n",
       "Model:                            OLS   Adj. R-squared (uncentered):              0.987\n",
       "Method:                 Least Squares   F-statistic:                              631.3\n",
       "Date:                Mon, 16 Dec 2019   Prob (F-statistic):                    4.04e-08\n",
       "Time:                        01:22:54   Log-Likelihood:                          21.153\n",
       "No. Observations:                   8   AIC:                                     -40.31\n",
       "Df Residuals:                       7   BIC:                                     -40.23\n",
       "Df Model:                           1                                                  \n",
       "Covariance Type:            nonrobust                                                  \n",
       "==============================================================================\n",
       "                 coef    std err          t      P>|t|      [0.025      0.975]\n",
       "------------------------------------------------------------------------------\n",
       "parent         0.9253      0.037     25.126      0.000       0.838       1.012\n",
       "==============================================================================\n",
       "Omnibus:                        0.900   Durbin-Watson:                   0.177\n",
       "Prob(Omnibus):                  0.638   Jarque-Bera (JB):                0.589\n",
       "Skew:                           0.199   Prob(JB):                        0.745\n",
       "Kurtosis:                       1.732   Cond. No.                         1.00\n",
       "==============================================================================\n",
       "\n",
       "Warnings:\n",
       "[1] Standard Errors assume that the covariance matrix of the errors is correctly specified.\n",
       "\"\"\""
      ]
     },
     "execution_count": 75,
     "metadata": {},
     "output_type": "execute_result"
    }
   ],
   "source": [
    "# Run this code by clicking on it and then the 'Play' icon to the left\n",
    "model.summary()"
   ]
  },
  {
   "cell_type": "markdown",
   "metadata": {
    "colab_type": "text",
    "id": "YTu8pUbHlYH7"
   },
   "source": [
    "In this example, we observe a p-value that is 0.000. Since this value is less than 0.05, we can conclude that the results are not by chance; there is a relationship between the parent and the offspring diameter sizes."
   ]
  },
  {
   "cell_type": "markdown",
   "metadata": {
    "colab_type": "text",
    "id": "Dkxq3TyKnL38"
   },
   "source": [
    "### Step 6: Identify the type of relationship"
   ]
  },
  {
   "cell_type": "markdown",
   "metadata": {
    "colab_type": "text",
    "id": "8qXm89eXwGQT"
   },
   "source": [
    "Now, let's visualize our data on a graph.\n",
    "\n",
    "Run the code below which uses the Seaborn package (**sns** for short) to plot (**regplot**) the data on a graph. We give it our dataframe (**peas**) as the data, and set the explanatory variable (**'parent'**) as the **x**-axis and the target variable (**'offspring'**) as the **y**-axis."
   ]
  },
  {
   "cell_type": "code",
   "execution_count": 76,
   "metadata": {
    "colab": {
     "base_uri": "https://localhost:8080/",
     "height": 296
    },
    "colab_type": "code",
    "id": "kSobQieoEOCN",
    "outputId": "9330610f-fac5-4a0c-9a88-0fe31adfb89b"
   },
   "outputs": [
    {
     "data": {
      "text/plain": [
       "<matplotlib.axes._subplots.AxesSubplot at 0x1c19e7f850>"
      ]
     },
     "execution_count": 76,
     "metadata": {},
     "output_type": "execute_result"
    },
    {
     "data": {
      "image/png": "[encoded data removed]",
      "text/plain": [
       "<Figure size 432x288 with 1 Axes>"
      ]
     },
     "metadata": {
      "needs_background": "light"
     },
     "output_type": "display_data"
    }
   ],
   "source": [
    "# Run this code by clicking on it and then the 'Play' icon to the left\n",
    "sns.regplot(data=peas, x = 'parent', y = 'offspring')"
   ]
  },
  {
   "cell_type": "markdown",
   "metadata": {
    "colab_type": "text",
    "id": "ZCrrejg4l2CX"
   },
   "source": [
    "The dots represent the data points. The line going through them is the regression line, or the \"least squares\" line. The shaded area represents a 95% confidence interval. This means that we are 95% confident that the values will be within this area."
   ]
  },
  {
   "cell_type": "markdown",
   "metadata": {
    "colab_type": "text",
    "id": "mMiJLx2tvFju"
   },
   "source": [
    "What type of relationship exists between the data? It is positive, negative, or neither?\n",
    "\n",
    "  - **Positive:** as one variable increases, the other variables increases as well.\n",
    "  - **Negative:** as one variable increases, the other variable decreases.\n",
    "  - **Neither:** There is no relationship between the variables."
   ]
  },
  {
   "cell_type": "markdown",
   "metadata": {
    "colab_type": "text",
    "id": "mstZ3x6angd3"
   },
   "source": [
    "### Step 7: Make predictions"
   ]
  },
  {
   "cell_type": "markdown",
   "metadata": {
    "colab_type": "text",
    "id": "qRZZGRmrveZh"
   },
   "source": [
    "We can now use the **model** to **predict** values for the target variable given the explanatory variable.\n",
    "\n",
    "Run the code below to predict the size of an of an offspring pea who's parent has a size of **.24**."
   ]
  },
  {
   "cell_type": "code",
   "execution_count": 77,
   "metadata": {
    "colab": {
     "base_uri": "https://localhost:8080/",
     "height": 34
    },
    "colab_type": "code",
    "id": "Pot6NPaiEOCW",
    "outputId": "75ffbc99-c2c4-4b34-d0eb-438ce04199da"
   },
   "outputs": [
    {
     "data": {
      "text/plain": [
       "array([0.22207512])"
      ]
     },
     "execution_count": 77,
     "metadata": {},
     "output_type": "execute_result"
    }
   ],
   "source": [
    "# Run this code by clicking on it and then the 'Play' icon to the left\n",
    "model.predict(.24)"
   ]
  },
  {
   "cell_type": "markdown",
   "metadata": {},
   "source": [
    "### Step 8: Get accuracy (R squared) score"
   ]
  },
  {
   "cell_type": "code",
   "execution_count": 79,
   "metadata": {
    "colab": {},
    "colab_type": "code",
    "id": "aaC98Vio9hcj"
   },
   "outputs": [
    {
     "data": {
      "text/plain": [
       "0.9890334004079007"
      ]
     },
     "execution_count": 79,
     "metadata": {},
     "output_type": "execute_result"
    }
   ],
   "source": [
    "model.rsquared"
   ]
  },
  {
   "cell_type": "markdown",
   "metadata": {},
   "source": [
    "## Linear Regression - sklearn"
   ]
  },
  {
   "cell_type": "code",
   "execution_count": 133,
   "metadata": {},
   "outputs": [],
   "source": [
    "from sklearn.linear_model import LinearRegression\n",
    "from sklearn.model_selection import train_test_split\n",
    "from sklearn import datasets"
   ]
  },
  {
   "cell_type": "code",
   "execution_count": 134,
   "metadata": {},
   "outputs": [],
   "source": [
    "iris = datasets.load_iris()\n",
    "X = iris.data[:, :2]  # we only take the first two features.\n",
    "y = iris.target"
   ]
  },
  {
   "cell_type": "code",
   "execution_count": 135,
   "metadata": {},
   "outputs": [],
   "source": [
    "X_train, X_test, y_train, y_test = train_test_split(X, y, test_size=0.5, random_state=1)"
   ]
  },
  {
   "cell_type": "code",
   "execution_count": 138,
   "metadata": {},
   "outputs": [
    {
     "data": {
      "text/plain": [
       "LinearRegression(copy_X=True, fit_intercept=True, n_jobs=None, normalize=False)"
      ]
     },
     "execution_count": 138,
     "metadata": {},
     "output_type": "execute_result"
    }
   ],
   "source": [
    "mod = LinearRegression()\n",
    "mod.fit(X_train, y_train)"
   ]
  },
  {
   "cell_type": "code",
   "execution_count": 140,
   "metadata": {},
   "outputs": [
    {
     "data": {
      "text/plain": [
       "0.7789824525361115"
      ]
     },
     "execution_count": 140,
     "metadata": {},
     "output_type": "execute_result"
    }
   ],
   "source": [
    "mod.score(X_test, y_test)"
   ]
  },
  {
   "cell_type": "markdown",
   "metadata": {},
   "source": [
    "## Conclusion:\n",
    "\n",
    "Both are great tools that can aid in your analysis.\n",
    "\n",
    "Statsmodels is a great tool in determining significance. It also provides a clear, well organized table with the summary statistics. Sklearn does not have this table, or such an easy way to obtain it, at least. Statsmodels also works better with smaller datasets.\n",
    "\n",
    "Sklearn overall is the better choice when performing a machine learning project. Other packages include the train/test split, which is a key factor in machine learning. Statsmodels does not have this functionality. Since sklearn models rely on the train/test data, they do not ork as well with small datasets. With larger datasets, sklearn is much easier to use, builds better models, and the documentation is much better.\n",
    "\n",
    "Statsmodels is a relatively new package. The documentation is not up-to-date, and there are many functionalities that do not exist, like they do in sklearn.\n",
    "\n",
    "If you need to do solely a statistical analysis, Statsmodels is the better option. Otherwise, choose sklearn."
   ]
  },
  {
   "cell_type": "markdown",
   "metadata": {
    "colab_type": "text",
    "id": "YbNvI1JB317A"
   },
   "source": [
    "Sources:\n",
    "\n",
    "***Peas experiment:***\n",
    "\n",
    "Weisberg, S. (2019, May 2). galtonpeas: Galton's peas in alr3: Data to Accompany Applied Linear Regression 3rd Edition. Retrieved from https://rdrr.io/cran/alr3/man/galtonpeas.html.\n",
    "\n",
    "\n",
    "***Perform Python regression:***\n",
    "\n",
    "Bronshtein, A. (2018, August 2). Simple and Multiple Linear Regression in Python. Retrieved from https://towardsdatascience.com/simple-and-multiple-linear-regression-in-python-c928425168f9.\n"
   ]
  },
  {
   "cell_type": "code",
   "execution_count": null,
   "metadata": {},
   "outputs": [],
   "source": []
  }
 ],
 "metadata": {
  "colab": {
   "collapsed_sections": [],
   "name": "process.ipynb",
   "provenance": []
  },
  "kernelspec": {
   "display_name": "Python 3",
   "language": "python",
   "name": "python3"
  },
  "language_info": {
   "codemirror_mode": {
    "name": "ipython",
    "version": 3
   },
   "file_extension": ".py",
   "mimetype": "text/x-python",
   "name": "python",
   "nbconvert_exporter": "python",
   "pygments_lexer": "ipython3",
   "version": "3.7.4"
  }
 },
 "nbformat": 4,
 "nbformat_minor": 1
}
